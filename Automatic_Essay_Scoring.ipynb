{
  "nbformat": 4,
  "nbformat_minor": 0,
  "metadata": {
    "colab": {
      "name": "Automatic Essay Scoring",
      "provenance": []
    },
    "kernelspec": {
      "name": "python3",
      "display_name": "Python 3"
    },
    "language_info": {
      "name": "python"
    }
  },
  "cells": [
    {
      "cell_type": "code",
      "metadata": {
        "colab": {
          "base_uri": "https://localhost:8080/"
        },
        "id": "fP99-J_pZXde",
        "outputId": "7f46c12f-ea31-4476-a59d-66e643a12cb6"
      },
      "source": [
        "!pip install pandas matplotlib numpy nltk seaborn sklearn gensim wordcloud textblob spacy textstat"
      ],
      "execution_count": 23,
      "outputs": [
        {
          "output_type": "stream",
          "text": [
            "Requirement already satisfied: pandas in /usr/local/lib/python3.7/dist-packages (1.1.5)\n",
            "Requirement already satisfied: matplotlib in /usr/local/lib/python3.7/dist-packages (3.2.2)\n",
            "Requirement already satisfied: numpy in /usr/local/lib/python3.7/dist-packages (1.19.5)\n",
            "Requirement already satisfied: nltk in /usr/local/lib/python3.7/dist-packages (3.2.5)\n",
            "Requirement already satisfied: seaborn in /usr/local/lib/python3.7/dist-packages (0.11.1)\n",
            "Requirement already satisfied: sklearn in /usr/local/lib/python3.7/dist-packages (0.0)\n",
            "Requirement already satisfied: gensim in /usr/local/lib/python3.7/dist-packages (3.6.0)\n",
            "Requirement already satisfied: wordcloud in /usr/local/lib/python3.7/dist-packages (1.5.0)\n",
            "Requirement already satisfied: textblob in /usr/local/lib/python3.7/dist-packages (0.15.3)\n",
            "Requirement already satisfied: spacy in /usr/local/lib/python3.7/dist-packages (2.2.4)\n",
            "Collecting textstat\n",
            "\u001b[?25l  Downloading https://files.pythonhosted.org/packages/ce/42/3e3691ff23d2f3e30ef18bd382d9450e992e2da7e01ca33d392b473eba05/textstat-0.7.1-py3-none-any.whl (99kB)\n",
            "\u001b[K     |████████████████████████████████| 102kB 4.1MB/s \n",
            "\u001b[?25hRequirement already satisfied: pytz>=2017.2 in /usr/local/lib/python3.7/dist-packages (from pandas) (2018.9)\n",
            "Requirement already satisfied: python-dateutil>=2.7.3 in /usr/local/lib/python3.7/dist-packages (from pandas) (2.8.1)\n",
            "Requirement already satisfied: pyparsing!=2.0.4,!=2.1.2,!=2.1.6,>=2.0.1 in /usr/local/lib/python3.7/dist-packages (from matplotlib) (2.4.7)\n",
            "Requirement already satisfied: cycler>=0.10 in /usr/local/lib/python3.7/dist-packages (from matplotlib) (0.10.0)\n",
            "Requirement already satisfied: kiwisolver>=1.0.1 in /usr/local/lib/python3.7/dist-packages (from matplotlib) (1.3.1)\n",
            "Requirement already satisfied: six in /usr/local/lib/python3.7/dist-packages (from nltk) (1.15.0)\n",
            "Requirement already satisfied: scipy>=1.0 in /usr/local/lib/python3.7/dist-packages (from seaborn) (1.4.1)\n",
            "Requirement already satisfied: scikit-learn in /usr/local/lib/python3.7/dist-packages (from sklearn) (0.22.2.post1)\n",
            "Requirement already satisfied: smart-open>=1.2.1 in /usr/local/lib/python3.7/dist-packages (from gensim) (5.1.0)\n",
            "Requirement already satisfied: pillow in /usr/local/lib/python3.7/dist-packages (from wordcloud) (7.1.2)\n",
            "Requirement already satisfied: wasabi<1.1.0,>=0.4.0 in /usr/local/lib/python3.7/dist-packages (from spacy) (0.8.2)\n",
            "Requirement already satisfied: plac<1.2.0,>=0.9.6 in /usr/local/lib/python3.7/dist-packages (from spacy) (1.1.3)\n",
            "Requirement already satisfied: blis<0.5.0,>=0.4.0 in /usr/local/lib/python3.7/dist-packages (from spacy) (0.4.1)\n",
            "Requirement already satisfied: tqdm<5.0.0,>=4.38.0 in /usr/local/lib/python3.7/dist-packages (from spacy) (4.41.1)\n",
            "Requirement already satisfied: thinc==7.4.0 in /usr/local/lib/python3.7/dist-packages (from spacy) (7.4.0)\n",
            "Requirement already satisfied: cymem<2.1.0,>=2.0.2 in /usr/local/lib/python3.7/dist-packages (from spacy) (2.0.5)\n",
            "Requirement already satisfied: requests<3.0.0,>=2.13.0 in /usr/local/lib/python3.7/dist-packages (from spacy) (2.23.0)\n",
            "Requirement already satisfied: catalogue<1.1.0,>=0.0.7 in /usr/local/lib/python3.7/dist-packages (from spacy) (1.0.0)\n",
            "Requirement already satisfied: preshed<3.1.0,>=3.0.2 in /usr/local/lib/python3.7/dist-packages (from spacy) (3.0.5)\n",
            "Requirement already satisfied: srsly<1.1.0,>=1.0.2 in /usr/local/lib/python3.7/dist-packages (from spacy) (1.0.5)\n",
            "Requirement already satisfied: murmurhash<1.1.0,>=0.28.0 in /usr/local/lib/python3.7/dist-packages (from spacy) (1.0.5)\n",
            "Requirement already satisfied: setuptools in /usr/local/lib/python3.7/dist-packages (from spacy) (57.0.0)\n",
            "Collecting pyphen\n",
            "\u001b[?25l  Downloading https://files.pythonhosted.org/packages/7c/5a/5bc036e01389bc6a6667a932bac3e388de6e7fa5777a6ff50e652f60ec79/Pyphen-0.10.0-py3-none-any.whl (1.9MB)\n",
            "\u001b[K     |████████████████████████████████| 1.9MB 26.7MB/s \n",
            "\u001b[?25hRequirement already satisfied: joblib>=0.11 in /usr/local/lib/python3.7/dist-packages (from scikit-learn->sklearn) (1.0.1)\n",
            "Requirement already satisfied: chardet<4,>=3.0.2 in /usr/local/lib/python3.7/dist-packages (from requests<3.0.0,>=2.13.0->spacy) (3.0.4)\n",
            "Requirement already satisfied: idna<3,>=2.5 in /usr/local/lib/python3.7/dist-packages (from requests<3.0.0,>=2.13.0->spacy) (2.10)\n",
            "Requirement already satisfied: certifi>=2017.4.17 in /usr/local/lib/python3.7/dist-packages (from requests<3.0.0,>=2.13.0->spacy) (2021.5.30)\n",
            "Requirement already satisfied: urllib3!=1.25.0,!=1.25.1,<1.26,>=1.21.1 in /usr/local/lib/python3.7/dist-packages (from requests<3.0.0,>=2.13.0->spacy) (1.24.3)\n",
            "Requirement already satisfied: importlib-metadata>=0.20; python_version < \"3.8\" in /usr/local/lib/python3.7/dist-packages (from catalogue<1.1.0,>=0.0.7->spacy) (4.5.0)\n",
            "Requirement already satisfied: zipp>=0.5 in /usr/local/lib/python3.7/dist-packages (from importlib-metadata>=0.20; python_version < \"3.8\"->catalogue<1.1.0,>=0.0.7->spacy) (3.4.1)\n",
            "Requirement already satisfied: typing-extensions>=3.6.4; python_version < \"3.8\" in /usr/local/lib/python3.7/dist-packages (from importlib-metadata>=0.20; python_version < \"3.8\"->catalogue<1.1.0,>=0.0.7->spacy) (3.7.4.3)\n",
            "Installing collected packages: pyphen, textstat\n",
            "Successfully installed pyphen-0.10.0 textstat-0.7.1\n"
          ],
          "name": "stdout"
        }
      ]
    },
    {
      "cell_type": "markdown",
      "metadata": {
        "id": "0yxnVnP88bHe"
      },
      "source": [
        "# Importing Necessary Libraries"
      ]
    },
    {
      "cell_type": "code",
      "metadata": {
        "colab": {
          "base_uri": "https://localhost:8080/"
        },
        "id": "TciNZlumZynT",
        "outputId": "e7e82aa0-2823-48ac-beb3-765fecf7324c"
      },
      "source": [
        "import numpy as np\n",
        "import pandas as pd\n",
        "import seaborn as sns\n",
        "from collections import Counter\n",
        "import matplotlib\n",
        "import matplotlib.pyplot as plt\n",
        "import time\n",
        "from nltk.corpus import stopwords\n",
        "from gensim.models import Word2Vec\n",
        "import nltk\n",
        "from nltk.stem import PorterStemmer\n",
        "from nltk.stem import WordNetLemmatizer\n",
        "from nltk.tokenize import sent_tokenize, word_tokenize\n",
        "import re\n",
        "import xlrd\n",
        "from sklearn.linear_model import LinearRegression as Lin_Reg\n",
        "from sklearn.model_selection import KFold\n",
        "from sklearn.linear_model import LinearRegression\n",
        "from sklearn.metrics import cohen_kappa_score\n",
        "from sklearn.feature_extraction.text import CountVectorizer\n",
        "nltk.download('punkt')\n",
        "nltk.download('stopwords')\n",
        "nltk.download('wordnet')\n",
        "%matplotlib inline"
      ],
      "execution_count": 1,
      "outputs": [
        {
          "output_type": "stream",
          "text": [
            "[nltk_data] Downloading package punkt to /root/nltk_data...\n",
            "[nltk_data]   Unzipping tokenizers/punkt.zip.\n",
            "[nltk_data] Downloading package stopwords to /root/nltk_data...\n",
            "[nltk_data]   Unzipping corpora/stopwords.zip.\n",
            "[nltk_data] Downloading package wordnet to /root/nltk_data...\n",
            "[nltk_data]   Unzipping corpora/wordnet.zip.\n"
          ],
          "name": "stdout"
        }
      ]
    },
    {
      "cell_type": "markdown",
      "metadata": {
        "id": "q6km-ec38erL"
      },
      "source": [
        "# Loading and Defining the Dataset"
      ]
    },
    {
      "cell_type": "code",
      "metadata": {
        "id": "ozY3o5jUZylz"
      },
      "source": [
        "df = pd.read_csv(\"/content/drive/MyDrive/ai_hiring/train.csv\")"
      ],
      "execution_count": 2,
      "outputs": []
    },
    {
      "cell_type": "code",
      "metadata": {
        "id": "a31E4NSAZykD"
      },
      "source": [
        "#x_train\n",
        "X = df  \n",
        "#y_train    \n",
        "y = X['evaluator_rating']   "
      ],
      "execution_count": 3,
      "outputs": []
    },
    {
      "cell_type": "code",
      "metadata": {
        "id": "6pyXTfBoZydL"
      },
      "source": [
        "#test_data\n",
        "test_df=pd.read_csv(\"/content/drive/MyDrive/ai_hiring/test.csv\")"
      ],
      "execution_count": 4,
      "outputs": []
    },
    {
      "cell_type": "markdown",
      "metadata": {
        "id": "KYrxh4ax8p3a"
      },
      "source": [
        "#Data Exploration"
      ]
    },
    {
      "cell_type": "code",
      "metadata": {
        "colab": {
          "base_uri": "https://localhost:8080/",
          "height": 204
        },
        "id": "yfYJORyCZyul",
        "outputId": "aa0dbfcb-8103-4f48-a4f4-723813d5f155"
      },
      "source": [
        "X.head()"
      ],
      "execution_count": 11,
      "outputs": [
        {
          "output_type": "execute_result",
          "data": {
            "text/html": [
              "<div>\n",
              "<style scoped>\n",
              "    .dataframe tbody tr th:only-of-type {\n",
              "        vertical-align: middle;\n",
              "    }\n",
              "\n",
              "    .dataframe tbody tr th {\n",
              "        vertical-align: top;\n",
              "    }\n",
              "\n",
              "    .dataframe thead th {\n",
              "        text-align: right;\n",
              "    }\n",
              "</style>\n",
              "<table border=\"1\" class=\"dataframe\">\n",
              "  <thead>\n",
              "    <tr style=\"text-align: right;\">\n",
              "      <th></th>\n",
              "      <th>Unnamed: 0</th>\n",
              "      <th>promptId</th>\n",
              "      <th>uniqueId</th>\n",
              "      <th>essay</th>\n",
              "      <th>evaluator_rating</th>\n",
              "    </tr>\n",
              "  </thead>\n",
              "  <tbody>\n",
              "    <tr>\n",
              "      <th>0</th>\n",
              "      <td>0</td>\n",
              "      <td>1</td>\n",
              "      <td>1_323</td>\n",
              "      <td>At present age, our education system is not go...</td>\n",
              "      <td>3.0</td>\n",
              "    </tr>\n",
              "    <tr>\n",
              "      <th>1</th>\n",
              "      <td>1</td>\n",
              "      <td>1</td>\n",
              "      <td>1_238</td>\n",
              "      <td>I am agree the tightly defined curriculum of o...</td>\n",
              "      <td>4.0</td>\n",
              "    </tr>\n",
              "    <tr>\n",
              "      <th>2</th>\n",
              "      <td>2</td>\n",
              "      <td>1</td>\n",
              "      <td>1_212</td>\n",
              "      <td>I strongly agree with the statement that tight...</td>\n",
              "      <td>2.0</td>\n",
              "    </tr>\n",
              "    <tr>\n",
              "      <th>3</th>\n",
              "      <td>3</td>\n",
              "      <td>1</td>\n",
              "      <td>1_117</td>\n",
              "      <td>Our education system is nice quitely but i dis...</td>\n",
              "      <td>2.0</td>\n",
              "    </tr>\n",
              "    <tr>\n",
              "      <th>4</th>\n",
              "      <td>4</td>\n",
              "      <td>1</td>\n",
              "      <td>1_229</td>\n",
              "      <td>i am totally agree with the statement that tig...</td>\n",
              "      <td>3.0</td>\n",
              "    </tr>\n",
              "  </tbody>\n",
              "</table>\n",
              "</div>"
            ],
            "text/plain": [
              "   Unnamed: 0  ...  evaluator_rating\n",
              "0           0  ...               3.0\n",
              "1           1  ...               4.0\n",
              "2           2  ...               2.0\n",
              "3           3  ...               2.0\n",
              "4           4  ...               3.0\n",
              "\n",
              "[5 rows x 5 columns]"
            ]
          },
          "metadata": {
            "tags": []
          },
          "execution_count": 11
        }
      ]
    },
    {
      "cell_type": "code",
      "metadata": {
        "colab": {
          "base_uri": "https://localhost:8080/",
          "height": 171
        },
        "id": "M9d4NlmgZysL",
        "outputId": "55cdf0ef-42e8-4641-f801-1ee91deb9d86"
      },
      "source": [
        "essays = df['essay']\n",
        "essays[100]"
      ],
      "execution_count": 12,
      "outputs": [
        {
          "output_type": "execute_result",
          "data": {
            "application/vnd.google.colaboratory.intrinsic+json": {
              "type": "string"
            },
            "text/plain": [
              "\"Now a days education is something like commit to memory and vomit to the paper at the exam hall. We overlook quality for quantity. For that our knowledge is limited between the pages of the books. Bookish knowledge is not all we should be bother about. Only the marks are not important in life, we must be able to think for some new ideas. But the current education system doesn't allow us this scope. Academic success that is all we think, we dream, we live in. Our idea is that chasing behind success, winning the mice race is all in life. But no, this is not what life is all about. A student now a days wake up in the morning, then he goes for his tuitions, from there he goes to school or college, again tution. We are bound in a chain system. But we need to get ourselves out of this chain. The students of this generation have turned their faces from outdoor games, imagining new creative ideas or some adventural sports. All of their target is to get high class degree and settle in abroad with a huge amount of salary.A student at the end of the day after 3 tuitions a day, 6 hours of school college is exhausted and one can hardly expect creativity from him. Yes educational qualification is important but it should not be a boring one. Education system can itself be a creative one. For that our Government should take some steps, like lab works, project works, exhibition, talent hunt, quiz, where a student will perform his creativeness. Education must not be a burden for a student. We don't need only degrees, we also need places to apply our knowledge, place to show our creativeness.\""
            ]
          },
          "metadata": {
            "tags": []
          },
          "execution_count": 12
        }
      ]
    },
    {
      "cell_type": "markdown",
      "metadata": {
        "id": "uS8VK7sb89Xj"
      },
      "source": [
        "## Text Length\n",
        "\n",
        "The length of the samples in the dataset is very important, as it can affect how you represent your text as features for the ML models.\n",
        "\n",
        "The length can also affect the algorithm you use. For example, LSTM networks are much better than vanilla RNN networks on long texts.\n",
        "\n"
      ]
    },
    {
      "cell_type": "code",
      "metadata": {
        "colab": {
          "base_uri": "https://localhost:8080/",
          "height": 435
        },
        "id": "a9nxnqDLZyqy",
        "outputId": "dc8c2dc9-9a48-4544-8ea6-b37f717b0bf5"
      },
      "source": [
        "lens = essays.str.split().apply(lambda x: len(x))\n",
        "print(lens.describe())\n",
        "lens.hist()"
      ],
      "execution_count": 13,
      "outputs": [
        {
          "output_type": "stream",
          "text": [
            "count    1240.000000\n",
            "mean      274.706452\n",
            "std        68.846563\n",
            "min        54.000000\n",
            "25%       227.000000\n",
            "50%       289.000000\n",
            "75%       316.000000\n",
            "max       590.000000\n",
            "Name: essay, dtype: float64\n"
          ],
          "name": "stdout"
        },
        {
          "output_type": "execute_result",
          "data": {
            "text/plain": [
              "<matplotlib.axes._subplots.AxesSubplot at 0x7fcff1f42590>"
            ]
          },
          "metadata": {
            "tags": []
          },
          "execution_count": 13
        },
        {
          "output_type": "display_data",
          "data": {
            "image/png": "[encoded data removed]",
            "text/plain": [
              "<Figure size 432x288 with 1 Axes>"
            ]
          },
          "metadata": {
            "tags": [],
            "needs_background": "light"
          }
        }
      ]
    },
    {
      "cell_type": "markdown",
      "metadata": {
        "id": "PPQ7m5_Q9Asz"
      },
      "source": [
        "## Number of characters present in each sentence"
      ]
    },
    {
      "cell_type": "code",
      "metadata": {
        "colab": {
          "base_uri": "https://localhost:8080/",
          "height": 282
        },
        "id": "M8TUbj3j87iS",
        "outputId": "c9ed91c2-0c4d-4fbd-de3d-77f3f716faf4"
      },
      "source": [
        "df['essay'].str.len().hist()"
      ],
      "execution_count": 14,
      "outputs": [
        {
          "output_type": "execute_result",
          "data": {
            "text/plain": [
              "<matplotlib.axes._subplots.AxesSubplot at 0x7fcff23de910>"
            ]
          },
          "metadata": {
            "tags": []
          },
          "execution_count": 14
        },
        {
          "output_type": "display_data",
          "data": {
            "image/png": "[encoded data removed]",
            "text/plain": [
              "<Figure size 432x288 with 1 Axes>"
            ]
          },
          "metadata": {
            "tags": [],
            "needs_background": "light"
          }
        }
      ]
    },
    {
      "cell_type": "markdown",
      "metadata": {
        "id": "ts4md_Eb9GBa"
      },
      "source": [
        "## Number of words appearing in each sentence"
      ]
    },
    {
      "cell_type": "code",
      "metadata": {
        "colab": {
          "base_uri": "https://localhost:8080/",
          "height": 282
        },
        "id": "wHrY_wre87fE",
        "outputId": "70850795-31be-4596-cf26-ecc27056695b"
      },
      "source": [
        "essays.str.split().map(lambda x: len(x)).hist()"
      ],
      "execution_count": 15,
      "outputs": [
        {
          "output_type": "execute_result",
          "data": {
            "text/plain": [
              "<matplotlib.axes._subplots.AxesSubplot at 0x7fcff50c0590>"
            ]
          },
          "metadata": {
            "tags": []
          },
          "execution_count": 15
        },
        {
          "output_type": "display_data",
          "data": {
            "image/png": "[encoded data removed]",
            "text/plain": [
              "<Figure size 432x288 with 1 Axes>"
            ]
          },
          "metadata": {
            "tags": [],
            "needs_background": "light"
          }
        }
      ]
    },
    {
      "cell_type": "markdown",
      "metadata": {
        "id": "kJBJBoBN9LVM"
      },
      "source": [
        "## Average word length in each sentence"
      ]
    },
    {
      "cell_type": "code",
      "metadata": {
        "colab": {
          "base_uri": "https://localhost:8080/",
          "height": 282
        },
        "id": "IUfOG1xz87cq",
        "outputId": "acdf30bd-2c0b-429e-b0ec-0444a69ec6aa"
      },
      "source": [
        "essays.str.split().apply(lambda x : [len(i) for i in x]).map(lambda x: np.mean(x)).hist()"
      ],
      "execution_count": 16,
      "outputs": [
        {
          "output_type": "execute_result",
          "data": {
            "text/plain": [
              "<matplotlib.axes._subplots.AxesSubplot at 0x7fcff50c07d0>"
            ]
          },
          "metadata": {
            "tags": []
          },
          "execution_count": 16
        },
        {
          "output_type": "display_data",
          "data": {
            "image/png": "[encoded data removed]",
            "text/plain": [
              "<Figure size 432x288 with 1 Axes>"
            ]
          },
          "metadata": {
            "tags": [],
            "needs_background": "light"
          }
        }
      ]
    },
    {
      "cell_type": "markdown",
      "metadata": {
        "id": "PMo1-sgT9TQI"
      },
      "source": [
        "## Term Frequencies\n"
      ]
    },
    {
      "cell_type": "code",
      "metadata": {
        "colab": {
          "base_uri": "https://localhost:8080/",
          "height": 1000
        },
        "id": "0MUuzrAG87Ws",
        "outputId": "36e13349-439a-4324-a938-28bcf71cc34c"
      },
      "source": [
        "stops =  set(stopwords.words('english')+['com'])\n",
        "co = CountVectorizer(stop_words=stops)\n",
        "counts = co.fit_transform(essays)\n",
        "pd.DataFrame(counts.sum(axis=0),columns=co.get_feature_names()).T.sort_values(0,ascending=False).head(50)"
      ],
      "execution_count": 17,
      "outputs": [
        {
          "output_type": "execute_result",
          "data": {
            "text/html": [
              "<div>\n",
              "<style scoped>\n",
              "    .dataframe tbody tr th:only-of-type {\n",
              "        vertical-align: middle;\n",
              "    }\n",
              "\n",
              "    .dataframe tbody tr th {\n",
              "        vertical-align: top;\n",
              "    }\n",
              "\n",
              "    .dataframe thead th {\n",
              "        text-align: right;\n",
              "    }\n",
              "</style>\n",
              "<table border=\"1\" class=\"dataframe\">\n",
              "  <thead>\n",
              "    <tr style=\"text-align: right;\">\n",
              "      <th></th>\n",
              "      <th>0</th>\n",
              "    </tr>\n",
              "  </thead>\n",
              "  <tbody>\n",
              "    <tr>\n",
              "      <th>people</th>\n",
              "      <td>3378</td>\n",
              "    </tr>\n",
              "    <tr>\n",
              "      <th>technology</th>\n",
              "      <td>3145</td>\n",
              "    </tr>\n",
              "    <tr>\n",
              "      <th>poor</th>\n",
              "      <td>1954</td>\n",
              "    </tr>\n",
              "    <tr>\n",
              "      <th>nuclear</th>\n",
              "      <td>1797</td>\n",
              "    </tr>\n",
              "    <tr>\n",
              "      <th>world</th>\n",
              "      <td>1723</td>\n",
              "    </tr>\n",
              "    <tr>\n",
              "      <th>education</th>\n",
              "      <td>1663</td>\n",
              "    </tr>\n",
              "    <tr>\n",
              "      <th>also</th>\n",
              "      <td>1577</td>\n",
              "    </tr>\n",
              "    <tr>\n",
              "      <th>rich</th>\n",
              "      <td>1536</td>\n",
              "    </tr>\n",
              "    <tr>\n",
              "      <th>weapons</th>\n",
              "      <td>1531</td>\n",
              "    </tr>\n",
              "    <tr>\n",
              "      <th>life</th>\n",
              "      <td>1365</td>\n",
              "    </tr>\n",
              "    <tr>\n",
              "      <th>country</th>\n",
              "      <td>1335</td>\n",
              "    </tr>\n",
              "    <tr>\n",
              "      <th>new</th>\n",
              "      <td>1294</td>\n",
              "    </tr>\n",
              "    <tr>\n",
              "      <th>many</th>\n",
              "      <td>1205</td>\n",
              "    </tr>\n",
              "    <tr>\n",
              "      <th>system</th>\n",
              "      <td>1130</td>\n",
              "    </tr>\n",
              "    <tr>\n",
              "      <th>time</th>\n",
              "      <td>1125</td>\n",
              "    </tr>\n",
              "    <tr>\n",
              "      <th>one</th>\n",
              "      <td>1052</td>\n",
              "    </tr>\n",
              "    <tr>\n",
              "      <th>human</th>\n",
              "      <td>985</td>\n",
              "    </tr>\n",
              "    <tr>\n",
              "      <th>every</th>\n",
              "      <td>968</td>\n",
              "    </tr>\n",
              "    <tr>\n",
              "      <th>use</th>\n",
              "      <td>959</td>\n",
              "    </tr>\n",
              "    <tr>\n",
              "      <th>like</th>\n",
              "      <td>935</td>\n",
              "    </tr>\n",
              "    <tr>\n",
              "      <th>day</th>\n",
              "      <td>920</td>\n",
              "    </tr>\n",
              "    <tr>\n",
              "      <th>work</th>\n",
              "      <td>889</td>\n",
              "    </tr>\n",
              "    <tr>\n",
              "      <th>things</th>\n",
              "      <td>832</td>\n",
              "    </tr>\n",
              "    <tr>\n",
              "      <th>good</th>\n",
              "      <td>830</td>\n",
              "    </tr>\n",
              "    <tr>\n",
              "      <th>get</th>\n",
              "      <td>786</td>\n",
              "    </tr>\n",
              "    <tr>\n",
              "      <th>society</th>\n",
              "      <td>784</td>\n",
              "    </tr>\n",
              "    <tr>\n",
              "      <th>race</th>\n",
              "      <td>750</td>\n",
              "    </tr>\n",
              "    <tr>\n",
              "      <th>become</th>\n",
              "      <td>744</td>\n",
              "    </tr>\n",
              "    <tr>\n",
              "      <th>money</th>\n",
              "      <td>736</td>\n",
              "    </tr>\n",
              "    <tr>\n",
              "      <th>us</th>\n",
              "      <td>731</td>\n",
              "    </tr>\n",
              "    <tr>\n",
              "      <th>students</th>\n",
              "      <td>722</td>\n",
              "    </tr>\n",
              "    <tr>\n",
              "      <th>make</th>\n",
              "      <td>714</td>\n",
              "    </tr>\n",
              "    <tr>\n",
              "      <th>arms</th>\n",
              "      <td>711</td>\n",
              "    </tr>\n",
              "    <tr>\n",
              "      <th>development</th>\n",
              "      <td>700</td>\n",
              "    </tr>\n",
              "    <tr>\n",
              "      <th>gap</th>\n",
              "      <td>693</td>\n",
              "    </tr>\n",
              "    <tr>\n",
              "      <th>countries</th>\n",
              "      <td>634</td>\n",
              "    </tr>\n",
              "    <tr>\n",
              "      <th>india</th>\n",
              "      <td>624</td>\n",
              "    </tr>\n",
              "    <tr>\n",
              "      <th>power</th>\n",
              "      <td>608</td>\n",
              "    </tr>\n",
              "    <tr>\n",
              "      <th>creativity</th>\n",
              "      <td>600</td>\n",
              "    </tr>\n",
              "    <tr>\n",
              "      <th>imagination</th>\n",
              "      <td>572</td>\n",
              "    </tr>\n",
              "    <tr>\n",
              "      <th>student</th>\n",
              "      <td>568</td>\n",
              "    </tr>\n",
              "    <tr>\n",
              "      <th>think</th>\n",
              "      <td>563</td>\n",
              "    </tr>\n",
              "    <tr>\n",
              "      <th>person</th>\n",
              "      <td>559</td>\n",
              "    </tr>\n",
              "    <tr>\n",
              "      <th>want</th>\n",
              "      <td>547</td>\n",
              "    </tr>\n",
              "    <tr>\n",
              "      <th>problem</th>\n",
              "      <td>535</td>\n",
              "    </tr>\n",
              "    <tr>\n",
              "      <th>days</th>\n",
              "      <td>534</td>\n",
              "    </tr>\n",
              "    <tr>\n",
              "      <th>production</th>\n",
              "      <td>507</td>\n",
              "    </tr>\n",
              "    <tr>\n",
              "      <th>need</th>\n",
              "      <td>495</td>\n",
              "    </tr>\n",
              "    <tr>\n",
              "      <th>today</th>\n",
              "      <td>488</td>\n",
              "    </tr>\n",
              "    <tr>\n",
              "      <th>help</th>\n",
              "      <td>481</td>\n",
              "    </tr>\n",
              "  </tbody>\n",
              "</table>\n",
              "</div>"
            ],
            "text/plain": [
              "                0\n",
              "people       3378\n",
              "technology   3145\n",
              "poor         1954\n",
              "nuclear      1797\n",
              "world        1723\n",
              "education    1663\n",
              "also         1577\n",
              "rich         1536\n",
              "weapons      1531\n",
              "life         1365\n",
              "country      1335\n",
              "new          1294\n",
              "many         1205\n",
              "system       1130\n",
              "time         1125\n",
              "one          1052\n",
              "human         985\n",
              "every         968\n",
              "use           959\n",
              "like          935\n",
              "day           920\n",
              "work          889\n",
              "things        832\n",
              "good          830\n",
              "get           786\n",
              "society       784\n",
              "race          750\n",
              "become        744\n",
              "money         736\n",
              "us            731\n",
              "students      722\n",
              "make          714\n",
              "arms          711\n",
              "development   700\n",
              "gap           693\n",
              "countries     634\n",
              "india         624\n",
              "power         608\n",
              "creativity    600\n",
              "imagination   572\n",
              "student       568\n",
              "think         563\n",
              "person        559\n",
              "want          547\n",
              "problem       535\n",
              "days          534\n",
              "production    507\n",
              "need          495\n",
              "today         488\n",
              "help          481"
            ]
          },
          "metadata": {
            "tags": []
          },
          "execution_count": 17
        }
      ]
    },
    {
      "cell_type": "markdown",
      "metadata": {
        "id": "Lq4zC5TH9YHU"
      },
      "source": [
        "# Feature Enginerring"
      ]
    },
    {
      "cell_type": "code",
      "metadata": {
        "id": "UzEsBSdm87Tq"
      },
      "source": [
        "corpus=[]\n",
        "new= df['essay'].str.split()\n",
        "new=new.values.tolist()\n",
        "corpus=[word for i in new for word in i]\n",
        "from collections import defaultdict\n",
        "dic=defaultdict(int)\n",
        "stop=set(stopwords.words('english'))\n",
        "for word in corpus:\n",
        "    if word in stop:\n",
        "        dic[word]+=1"
      ],
      "execution_count": 18,
      "outputs": []
    },
    {
      "cell_type": "markdown",
      "metadata": {
        "id": "eWluKiyB9c02"
      },
      "source": [
        "### Let’s inspect which words other than these stopwords occur frequently"
      ]
    },
    {
      "cell_type": "code",
      "metadata": {
        "colab": {
          "base_uri": "https://localhost:8080/",
          "height": 282
        },
        "id": "d7sFHqd187Pr",
        "outputId": "c4519501-0b2c-4f52-9e6e-ef52d5cd741c"
      },
      "source": [
        "counter=Counter(corpus)\n",
        "most=counter.most_common()\n",
        "x, y= [], []\n",
        "for word,count in most[:40]:\n",
        "    if (word not in stop):\n",
        "        x.append(word)\n",
        "        y.append(count)\n",
        "        \n",
        "sns.barplot(x=y,y=x)"
      ],
      "execution_count": 19,
      "outputs": [
        {
          "output_type": "execute_result",
          "data": {
            "text/plain": [
              "<matplotlib.axes._subplots.AxesSubplot at 0x7fcfe9ff9590>"
            ]
          },
          "metadata": {
            "tags": []
          },
          "execution_count": 19
        },
        {
          "output_type": "display_data",
          "data": {
            "image/png": "[encoded data removed]",
            "text/plain": [
              "<Figure size 432x288 with 1 Axes>"
            ]
          },
          "metadata": {
            "tags": [],
            "needs_background": "light"
          }
        }
      ]
    },
    {
      "cell_type": "markdown",
      "metadata": {
        "id": "3LfpPqmE9gb4"
      },
      "source": [
        "## Analyzing the top bigrams in our essay\n",
        "\n",
        "To build a representation of our vocabulary we will use Countvectorizer. Countvectorizer is a simple method used to tokenize, vectorize and represent the corpus in an appropriate form. \n"
      ]
    },
    {
      "cell_type": "code",
      "metadata": {
        "colab": {
          "base_uri": "https://localhost:8080/",
          "height": 282
        },
        "id": "OPxCkis69fVl",
        "outputId": "88bc0039-a9e8-4354-c107-452e1bacf32a"
      },
      "source": [
        "from sklearn.feature_extraction.text import CountVectorizer\n",
        "def get_top_ngram(corpus, n=None):\n",
        "    vec = CountVectorizer(ngram_range=(n, n)).fit(corpus)\n",
        "    bag_of_words = vec.transform(corpus)\n",
        "    sum_words = bag_of_words.sum(axis=0) \n",
        "    words_freq = [(word, sum_words[0, idx]) \n",
        "                  for word, idx in vec.vocabulary_.items()]\n",
        "    words_freq =sorted(words_freq, key = lambda x: x[1], reverse=True)\n",
        "    return words_freq[:10]\n",
        "top_n_bigrams=get_top_ngram(essays,2)[:10]\n",
        "x,y=map(list,zip(*top_n_bigrams))\n",
        "sns.barplot(x=y,y=x)"
      ],
      "execution_count": 20,
      "outputs": [
        {
          "output_type": "execute_result",
          "data": {
            "text/plain": [
              "<matplotlib.axes._subplots.AxesSubplot at 0x7fcfe9e6fd10>"
            ]
          },
          "metadata": {
            "tags": []
          },
          "execution_count": 20
        },
        {
          "output_type": "display_data",
          "data": {
            "image/png": "[encoded data removed]",
            "text/plain": [
              "<Figure size 432x288 with 1 Axes>"
            ]
          },
          "metadata": {
            "tags": [],
            "needs_background": "light"
          }
        }
      ]
    },
    {
      "cell_type": "markdown",
      "metadata": {
        "id": "ZnpRUj4J9jLA"
      },
      "source": [
        "## WORDCLOUD"
      ]
    },
    {
      "cell_type": "code",
      "metadata": {
        "colab": {
          "base_uri": "https://localhost:8080/",
          "height": 366
        },
        "id": "XbGplWIs9fSO",
        "outputId": "dfcd82ac-fa6c-4c33-d757-0c0d192dcf60"
      },
      "source": [
        "from wordcloud import WordCloud, STOPWORDS\n",
        "stopwords = set(STOPWORDS)\n",
        "def show_wordcloud(data):\n",
        "    wordcloud = WordCloud(\n",
        "        background_color='white',\n",
        "        stopwords=stopwords,\n",
        "        max_words=100,\n",
        "        max_font_size=30,\n",
        "        scale=3,\n",
        "        random_state=1)\n",
        "   \n",
        "    wordcloud=wordcloud.generate(str(data))\n",
        "    fig = plt.figure(1, figsize=(12, 12))\n",
        "    plt.axis('off')\n",
        "    plt.imshow(wordcloud)\n",
        "    plt.show()\n",
        "show_wordcloud(corpus)"
      ],
      "execution_count": 21,
      "outputs": [
        {
          "output_type": "display_data",
          "data": {
            "image/png": "[encoded data removed]",
            "text/plain": [
              "<Figure size 864x864 with 1 Axes>"
            ]
          },
          "metadata": {
            "tags": [],
            "needs_background": "light"
          }
        }
      ]
    },
    {
      "cell_type": "markdown",
      "metadata": {
        "id": "CgzpqbAs9l8m"
      },
      "source": [
        "## Exploring through text complexity\n",
        "\n",
        "Readability index is a numeric value that indicates how difficult (or easy) it is to read and understand a text.\n",
        "\n",
        "Textstat is a cool Python library that provides an implementation of all these text statistics calculation methods."
      ]
    },
    {
      "cell_type": "code",
      "metadata": {
        "colab": {
          "base_uri": "https://localhost:8080/",
          "height": 282
        },
        "id": "7b5EELSL9fPr",
        "outputId": "4e6f91c6-42e7-47b3-a9d3-ff8ab406495d"
      },
      "source": [
        "from textstat import flesch_reading_ease\n",
        "essays.apply(lambda x : flesch_reading_ease(x)).hist()"
      ],
      "execution_count": 24,
      "outputs": [
        {
          "output_type": "execute_result",
          "data": {
            "text/plain": [
              "<matplotlib.axes._subplots.AxesSubplot at 0x7fcfe4781f10>"
            ]
          },
          "metadata": {
            "tags": []
          },
          "execution_count": 24
        },
        {
          "output_type": "display_data",
          "data": {
            "image/png": "[encoded data removed]",
            "text/plain": [
              "<Figure size 432x288 with 1 Axes>"
            ]
          },
          "metadata": {
            "tags": [],
            "needs_background": "light"
          }
        }
      ]
    },
    {
      "cell_type": "code",
      "metadata": {
        "colab": {
          "base_uri": "https://localhost:8080/",
          "height": 435
        },
        "id": "00whW4N787Ns",
        "outputId": "adc81014-b5e8-47ee-b5f0-dfcc9190fc8f"
      },
      "source": [
        "lens = essays.str.split().apply(lambda x: len(x))\n",
        "print(lens.describe())\n",
        "lens.hist()"
      ],
      "execution_count": 25,
      "outputs": [
        {
          "output_type": "stream",
          "text": [
            "count    1240.000000\n",
            "mean      274.706452\n",
            "std        68.846563\n",
            "min        54.000000\n",
            "25%       227.000000\n",
            "50%       289.000000\n",
            "75%       316.000000\n",
            "max       590.000000\n",
            "Name: essay, dtype: float64\n"
          ],
          "name": "stdout"
        },
        {
          "output_type": "execute_result",
          "data": {
            "text/plain": [
              "<matplotlib.axes._subplots.AxesSubplot at 0x7fcfe99fa790>"
            ]
          },
          "metadata": {
            "tags": []
          },
          "execution_count": 25
        },
        {
          "output_type": "display_data",
          "data": {
            "image/png": "[encoded data removed]",
            "text/plain": [
              "<Figure size 432x288 with 1 Axes>"
            ]
          },
          "metadata": {
            "tags": [],
            "needs_background": "light"
          }
        }
      ]
    },
    {
      "cell_type": "code",
      "metadata": {
        "colab": {
          "base_uri": "https://localhost:8080/",
          "height": 344
        },
        "id": "wsBfYjzLZypP",
        "outputId": "65f9b77f-afed-42b5-adf1-d8233fbd4139"
      },
      "source": [
        "essays.str.extractall(r'(\\#\\w+)')[0].value_counts().head(20).plot.bar()"
      ],
      "execution_count": 26,
      "outputs": [
        {
          "output_type": "execute_result",
          "data": {
            "text/plain": [
              "<matplotlib.axes._subplots.AxesSubplot at 0x7fcfe91bdf50>"
            ]
          },
          "metadata": {
            "tags": []
          },
          "execution_count": 26
        },
        {
          "output_type": "display_data",
          "data": {
            "image/png": "[encoded data removed]",
            "text/plain": [
              "<Figure size 432x288 with 1 Axes>"
            ]
          },
          "metadata": {
            "tags": [],
            "needs_background": "light"
          }
        }
      ]
    },
    {
      "cell_type": "markdown",
      "metadata": {
        "id": "L4F4-4tG-jeu"
      },
      "source": [
        "# Topic Modeling\n",
        "\n",
        "Topic modeling is a group of unsupervised machine learning methods aimed to extract meaningful topics from a text corpus. Topic modeling is helpful in exploring a new text dataset and understanding the different types of text samples.\n",
        "\n",
        "Using the Latent Dirichlet Allocation algorithm with 10 topics and print the most important words in every topic."
      ]
    },
    {
      "cell_type": "code",
      "metadata": {
        "colab": {
          "base_uri": "https://localhost:8080/"
        },
        "id": "_m7Z2Z2Y9y_c",
        "outputId": "e78d7f3c-b171-4b75-a1b2-decd11433e1f"
      },
      "source": [
        "from sklearn.decomposition import LatentDirichletAllocation, NMF\n",
        "vectorizer = CountVectorizer(stop_words=stops)\n",
        "model = vectorizer.fit(essays)\n",
        "docs = vectorizer.transform(essays)\n",
        "lda = LatentDirichletAllocation(20)\n",
        "lda.fit(docs)\n",
        "def print_top_words(model, feature_names, n_top_words):\n",
        "  for topic_idx, topic in enumerate(model.components_):\n",
        "    message = \"Topic #%d: \" % topic_idx\n",
        "    message += \" \".join([(feature_names[i])\n",
        "    for i in topic.argsort()[:-n_top_words - 1:-1]])\n",
        "    print(message)\n",
        "  print()\n",
        "print_top_words(lda,vectorizer.get_feature_names(),10)"
      ],
      "execution_count": 27,
      "outputs": [
        {
          "output_type": "stream",
          "text": [
            "Topic #0: poor people rich money gap society government day also one\n",
            "Topic #1: also people many good day life technology us new days\n",
            "Topic #2: education system india new every technogy indian country student child\n",
            "Topic #3: man good human would well part save food support easy\n",
            "Topic #4: people world find way india try races know new things\n",
            "Topic #5: every new use one india person people tecnology would individual\n",
            "Topic #6: technology us life people world become without human things slaves\n",
            "Topic #7: life tha school days time also many one give even\n",
            "Topic #8: time develope earth let treaty kills useing countries thing leading\n",
            "Topic #9: world value various wealth countries many country fact new nation\n",
            "Topic #10: genaration find true 14 sysytem year thing resion higer kids\n",
            "Topic #11: inequality gap rich poor economic income growing wages wealth within\n",
            "Topic #12: technology new people also work time use life like technologies\n",
            "Topic #13: education system students creativity imagination student time curriculum things knowledge\n",
            "Topic #14: life arts even make right wepons easily happy thing people\n",
            "Topic #15: amp india soviet outer 039 advancement people indian union field\n",
            "Topic #16: nuclear weapons world country race arms development human countries production\n",
            "Topic #17: india 039 part system never bad smart say solution socity\n",
            "Topic #18: every world creativity see people want one become thats creative\n",
            "Topic #19: technology people use life become world new addiction time many\n",
            "\n"
          ],
          "name": "stdout"
        }
      ]
    },
    {
      "cell_type": "markdown",
      "metadata": {
        "id": "abTtQAF0-onh"
      },
      "source": [
        "# Building the Model\n",
        "\n",
        "Two Long Short Term Memory (LSTM) layers and a Dense output layer make up the model architecture. 5-Fold Cross Validation is used to train the model on the dataset and the average of all five folds is taken."
      ]
    },
    {
      "cell_type": "markdown",
      "metadata": {
        "id": "nFwXF-bD-qDV"
      },
      "source": [
        "## Preprocessing"
      ]
    },
    {
      "cell_type": "code",
      "metadata": {
        "id": "xHZuIZC0ZyiS"
      },
      "source": [
        "def essay_to_wordlist(essay_v, remove_stopwords):\n",
        "    \"\"\"Removing the tagged labels and tokenizing the sentence.\"\"\"\n",
        "    essay_v = re.sub(\"[^a-zA-Z]\", \" \", essay_v)\n",
        "    words = essay_v.lower().split()\n",
        "    if remove_stopwords:\n",
        "        stops = set(stopwords.words(\"english\"))\n",
        "        words = [w for w in words if not w in stops]\n",
        "    return (words)\n",
        "\n",
        "def essay_to_sentences(essay_v, remove_stopwords):\n",
        "    \"\"\"Sentence tokenization and word tokenization.\"\"\"\n",
        "    tokenizer = nltk.data.load('tokenizers/punkt/english.pickle')\n",
        "    raw_sentences = tokenizer.tokenize(essay_v.strip())\n",
        "    sentences = []\n",
        "    for raw_sentence in raw_sentences:\n",
        "        if len(raw_sentence) > 0:\n",
        "            sentences.append(essay_to_wordlist(raw_sentence, remove_stopwords))\n",
        "    return sentences\n",
        "\n",
        "def makeFeatureVec(words, model, num_features):\n",
        "    \"\"\"Making feature vector\"\"\"\n",
        "    featureVec = np.zeros((num_features,),dtype=\"float32\")\n",
        "    num_words = 0.\n",
        "    index2word_set = set(model.wv.index2word)\n",
        "    for word in words:\n",
        "        if word in index2word_set:\n",
        "            num_words += 1\n",
        "            featureVec = np.add(featureVec,model[word])        \n",
        "    featureVec = np.divide(featureVec,num_words)\n",
        "    return featureVec\n",
        "\n",
        "def getAvgFeatureVecs(essays, model, num_features):\n",
        "    \"\"\"Generating work vectors for word2vec model\"\"\"\n",
        "    counter = 0\n",
        "    essayFeatureVecs = np.zeros((len(essays),num_features),dtype=\"float32\")\n",
        "    for essay in essays:\n",
        "        essayFeatureVecs[counter] = makeFeatureVec(essay, model, num_features)\n",
        "        counter = counter + 1\n",
        "    return essayFeatureVecs"
      ],
      "execution_count": 5,
      "outputs": []
    },
    {
      "cell_type": "markdown",
      "metadata": {
        "id": "yOLuQsrd-txE"
      },
      "source": [
        "## Defining the Model"
      ]
    },
    {
      "cell_type": "code",
      "metadata": {
        "id": "oxwxD_fMZygm"
      },
      "source": [
        "from keras.layers import Embedding, LSTM, Dense, Dropout, Lambda, Flatten\n",
        "from keras.models import Sequential, load_model, model_from_config\n",
        "import keras.backend as K\n",
        "\n",
        "def get_model():\n",
        "    \"\"\"Defining the model.\"\"\"\n",
        "    model = Sequential()\n",
        "    model.add(LSTM(300, dropout=0.4, recurrent_dropout=0.4, input_shape=[1, 300], return_sequences=True))\n",
        "    model.add(LSTM(64, recurrent_dropout=0.4))\n",
        "    model.add(Dropout(0.5))\n",
        "    model.add(Dense(1, activation='relu'))\n",
        "\n",
        "    model.compile(loss='mean_squared_error', optimizer='rmsprop', metrics=['mae'])\n",
        "    model.summary()\n",
        "\n",
        "    return model"
      ],
      "execution_count": 6,
      "outputs": []
    },
    {
      "cell_type": "markdown",
      "metadata": {
        "id": "hTkMFaN2-zGc"
      },
      "source": [
        "## Training"
      ]
    },
    {
      "cell_type": "code",
      "metadata": {
        "colab": {
          "base_uri": "https://localhost:8080/"
        },
        "id": "MUrwdrIpZybe",
        "outputId": "226215d0-e8fc-4d61-fbae-d71deadde9ba"
      },
      "source": [
        "cv = KFold(len(X), shuffle=True)\n",
        "results = []\n",
        "y_pred_list = []\n",
        "\n",
        "count = 1\n",
        "for traincv, testcv in cv.split(X):\n",
        "    print(\"\\n--------Fold {}--------\\n\".format(count))\n",
        "    X_val, X_train, y_val, y_train = X.iloc[testcv], X.iloc[traincv], y.iloc[testcv], y.iloc[traincv]\n",
        "\n",
        "    \n",
        "\n",
        "    test_essays=test_df['essay']\n",
        "    test_data_id=test_df['uniqueId']\n",
        "    \n",
        "    train_essays = X_train['essay']\n",
        "    val_essays = X_val['essay']\n",
        "    \n",
        "    sentences = []\n",
        "    \n",
        "    for essay in train_essays:\n",
        "            sentences += essay_to_sentences(essay, remove_stopwords = True)\n",
        "            \n",
        "    # Initializing variables for word2vec model.\n",
        "    num_features = 300 \n",
        "    min_word_count = 40\n",
        "    num_workers = 4\n",
        "    context = 10\n",
        "    downsampling = 1e-3\n",
        "\n",
        "    print(\"Training Word2Vec Model...\")\n",
        "    model = Word2Vec(sentences, workers=num_workers, size=num_features, min_count = min_word_count, window = context, sample = downsampling)\n",
        "\n",
        "    model.init_sims(replace=True)\n",
        "    model.wv.save_word2vec_format('word2vecmodel.bin', binary=True)\n",
        "\n",
        "    clean_train_essays = []\n",
        "    \n",
        "    # Generate training and testing data word vectors.\n",
        "    for essay_v in train_essays:\n",
        "        clean_train_essays.append(essay_to_wordlist(essay_v, remove_stopwords=True))\n",
        "    trainDataVecs = getAvgFeatureVecs(clean_train_essays, model, num_features)\n",
        "    \n",
        "    clean_test_essays = []\n",
        "    for essay_v in test_essays:\n",
        "        clean_test_essays.append(essay_to_wordlist( essay_v, remove_stopwords=True ))\n",
        "    testDataVecs = getAvgFeatureVecs( clean_test_essays, model, num_features )\n",
        "\n",
        "    clean_val_essays = []\n",
        "    for essay_v in val_essays:\n",
        "        clean_val_essays.append(essay_to_wordlist( essay_v, remove_stopwords=True ))\n",
        "    valDataVecs = getAvgFeatureVecs( clean_val_essays, model, num_features )\n",
        "    \n",
        "    trainDataVecs = np.array(trainDataVecs)\n",
        "    testDataVecs = np.array(testDataVecs)\n",
        "    valDataVecs = np.array(valDataVecs)\n",
        "    # Reshaping train and test vectors to 3 dimensions.\n",
        "    trainDataVecs = np.reshape(trainDataVecs, (trainDataVecs.shape[0], 1, trainDataVecs.shape[1]))\n",
        "    testDataVecs = np.reshape(testDataVecs, (testDataVecs.shape[0], 1, testDataVecs.shape[1]))\n",
        "    valDataVecs = np.reshape(valDataVecs, (valDataVecs.shape[0], 1, valDataVecs.shape[1]))\n",
        "    \n",
        "    lstm_model = get_model()\n",
        "    lstm_model.fit(trainDataVecs, y_train, batch_size=64, epochs=50)\n",
        "    \n",
        "    y_pred_val = lstm_model.predict(testDataVecs)\n",
        "    if count == 5:\n",
        "         y_pred = lstm_model.predict(testDataVecs)\n",
        "         y_pred = np.around(y_pred)\n",
        "         lstm_model.save('./model_weights/final_lstm.h5')\n",
        "         break\n",
        "    \n",
        "    # Round y_pred to the nearest integer.\n",
        "    y_pred_val = np.around(y_pred_val)\n",
        "    count+=1"
      ],
      "execution_count": 7,
      "outputs": [
        {
          "output_type": "stream",
          "text": [
            "\n",
            "--------Fold 1--------\n",
            "\n",
            "Training Word2Vec Model...\n"
          ],
          "name": "stdout"
        },
        {
          "output_type": "stream",
          "text": [
            "/usr/local/lib/python3.7/dist-packages/ipykernel_launcher.py:28: DeprecationWarning: Call to deprecated `__getitem__` (Method will be removed in 4.0.0, use self.wv.__getitem__() instead).\n"
          ],
          "name": "stderr"
        },
        {
          "output_type": "stream",
          "text": [
            "Model: \"sequential\"\n",
            "_________________________________________________________________\n",
            "Layer (type)                 Output Shape              Param #   \n",
            "=================================================================\n",
            "lstm (LSTM)                  (None, 1, 300)            721200    \n",
            "_________________________________________________________________\n",
            "lstm_1 (LSTM)                (None, 64)                93440     \n",
            "_________________________________________________________________\n",
            "dropout (Dropout)            (None, 64)                0         \n",
            "_________________________________________________________________\n",
            "dense (Dense)                (None, 1)                 65        \n",
            "=================================================================\n",
            "Total params: 814,705\n",
            "Trainable params: 814,705\n",
            "Non-trainable params: 0\n",
            "_________________________________________________________________\n",
            "Epoch 1/50\n",
            "20/20 [==============================] - 28s 26ms/step - loss: 5.5513 - mae: 2.0509\n",
            "Epoch 2/50\n",
            "20/20 [==============================] - 1s 27ms/step - loss: 1.3079 - mae: 0.8709\n",
            "Epoch 3/50\n",
            "20/20 [==============================] - 1s 26ms/step - loss: 1.2648 - mae: 0.8379\n",
            "Epoch 4/50\n",
            "20/20 [==============================] - 1s 26ms/step - loss: 1.2204 - mae: 0.8390\n",
            "Epoch 5/50\n",
            "20/20 [==============================] - 0s 25ms/step - loss: 1.2129 - mae: 0.8297\n",
            "Epoch 6/50\n",
            "20/20 [==============================] - 1s 25ms/step - loss: 1.3313 - mae: 0.8606\n",
            "Epoch 7/50\n",
            "20/20 [==============================] - 1s 26ms/step - loss: 1.1369 - mae: 0.8089\n",
            "Epoch 8/50\n",
            "20/20 [==============================] - 0s 25ms/step - loss: 1.2247 - mae: 0.8267\n",
            "Epoch 9/50\n",
            "20/20 [==============================] - 1s 25ms/step - loss: 1.1613 - mae: 0.8119\n",
            "Epoch 10/50\n",
            "20/20 [==============================] - 1s 26ms/step - loss: 1.2545 - mae: 0.8364\n",
            "Epoch 11/50\n",
            "20/20 [==============================] - 0s 25ms/step - loss: 1.1966 - mae: 0.8103\n",
            "Epoch 12/50\n",
            "20/20 [==============================] - 1s 25ms/step - loss: 1.2825 - mae: 0.8709\n",
            "Epoch 13/50\n",
            "20/20 [==============================] - 0s 25ms/step - loss: 1.2021 - mae: 0.8224\n",
            "Epoch 14/50\n",
            "20/20 [==============================] - 1s 25ms/step - loss: 1.2774 - mae: 0.8655\n",
            "Epoch 15/50\n",
            "20/20 [==============================] - 1s 26ms/step - loss: 1.2346 - mae: 0.8419\n",
            "Epoch 16/50\n",
            "20/20 [==============================] - 1s 26ms/step - loss: 1.1759 - mae: 0.8203\n",
            "Epoch 17/50\n",
            "20/20 [==============================] - 1s 27ms/step - loss: 1.1825 - mae: 0.8216\n",
            "Epoch 18/50\n",
            "20/20 [==============================] - 1s 27ms/step - loss: 1.1847 - mae: 0.8201\n",
            "Epoch 19/50\n",
            "20/20 [==============================] - 1s 26ms/step - loss: 1.1788 - mae: 0.8178\n",
            "Epoch 20/50\n",
            "20/20 [==============================] - 1s 27ms/step - loss: 1.1530 - mae: 0.8071\n",
            "Epoch 21/50\n",
            "20/20 [==============================] - 1s 27ms/step - loss: 1.2211 - mae: 0.8310\n",
            "Epoch 22/50\n",
            "20/20 [==============================] - 1s 25ms/step - loss: 1.2758 - mae: 0.8634\n",
            "Epoch 23/50\n",
            "20/20 [==============================] - 1s 26ms/step - loss: 1.2314 - mae: 0.8283\n",
            "Epoch 24/50\n",
            "20/20 [==============================] - 1s 26ms/step - loss: 1.2876 - mae: 0.8795\n",
            "Epoch 25/50\n",
            "20/20 [==============================] - 1s 26ms/step - loss: 1.1931 - mae: 0.8143\n",
            "Epoch 26/50\n",
            "20/20 [==============================] - 1s 26ms/step - loss: 1.1308 - mae: 0.8101\n",
            "Epoch 27/50\n",
            "20/20 [==============================] - 1s 26ms/step - loss: 1.1701 - mae: 0.8068\n",
            "Epoch 28/50\n",
            "20/20 [==============================] - 0s 25ms/step - loss: 1.1051 - mae: 0.7952\n",
            "Epoch 29/50\n",
            "20/20 [==============================] - 0s 25ms/step - loss: 1.1514 - mae: 0.8131\n",
            "Epoch 30/50\n",
            "20/20 [==============================] - 0s 24ms/step - loss: 1.2239 - mae: 0.8436\n",
            "Epoch 31/50\n",
            "20/20 [==============================] - 1s 25ms/step - loss: 1.1679 - mae: 0.8110\n",
            "Epoch 32/50\n",
            "20/20 [==============================] - 0s 25ms/step - loss: 1.0767 - mae: 0.8008\n",
            "Epoch 33/50\n",
            "20/20 [==============================] - 1s 25ms/step - loss: 1.2247 - mae: 0.8542\n",
            "Epoch 34/50\n",
            "20/20 [==============================] - 0s 24ms/step - loss: 1.2841 - mae: 0.8670\n",
            "Epoch 35/50\n",
            "20/20 [==============================] - 1s 26ms/step - loss: 1.1814 - mae: 0.8159\n",
            "Epoch 36/50\n",
            "20/20 [==============================] - 1s 26ms/step - loss: 1.2381 - mae: 0.8223\n",
            "Epoch 37/50\n",
            "20/20 [==============================] - 1s 25ms/step - loss: 1.1498 - mae: 0.8100\n",
            "Epoch 38/50\n",
            "20/20 [==============================] - 1s 26ms/step - loss: 1.1615 - mae: 0.8135\n",
            "Epoch 39/50\n",
            "20/20 [==============================] - 1s 25ms/step - loss: 1.1186 - mae: 0.8001\n",
            "Epoch 40/50\n",
            "20/20 [==============================] - 0s 25ms/step - loss: 1.2179 - mae: 0.8259\n",
            "Epoch 41/50\n",
            "20/20 [==============================] - 1s 26ms/step - loss: 1.2397 - mae: 0.8370\n",
            "Epoch 42/50\n",
            "20/20 [==============================] - 1s 26ms/step - loss: 1.1595 - mae: 0.8036\n",
            "Epoch 43/50\n",
            "20/20 [==============================] - 1s 26ms/step - loss: 1.1958 - mae: 0.8314\n",
            "Epoch 44/50\n",
            "20/20 [==============================] - 1s 25ms/step - loss: 1.1702 - mae: 0.8175\n",
            "Epoch 45/50\n",
            "20/20 [==============================] - 1s 27ms/step - loss: 1.1777 - mae: 0.8260\n",
            "Epoch 46/50\n",
            "20/20 [==============================] - 1s 26ms/step - loss: 1.1559 - mae: 0.8123\n",
            "Epoch 47/50\n",
            "20/20 [==============================] - 1s 26ms/step - loss: 1.2253 - mae: 0.8447\n",
            "Epoch 48/50\n",
            "20/20 [==============================] - 1s 27ms/step - loss: 1.1516 - mae: 0.8222\n",
            "Epoch 49/50\n",
            "20/20 [==============================] - 1s 26ms/step - loss: 1.2034 - mae: 0.8361\n",
            "Epoch 50/50\n",
            "20/20 [==============================] - 1s 26ms/step - loss: 1.0631 - mae: 0.7793\n",
            "\n",
            "--------Fold 2--------\n",
            "\n",
            "Training Word2Vec Model...\n",
            "Model: \"sequential_1\"\n",
            "_________________________________________________________________\n",
            "Layer (type)                 Output Shape              Param #   \n",
            "=================================================================\n",
            "lstm_2 (LSTM)                (None, 1, 300)            721200    \n",
            "_________________________________________________________________\n",
            "lstm_3 (LSTM)                (None, 64)                93440     \n",
            "_________________________________________________________________\n",
            "dropout_1 (Dropout)          (None, 64)                0         \n",
            "_________________________________________________________________\n",
            "dense_1 (Dense)              (None, 1)                 65        \n",
            "=================================================================\n",
            "Total params: 814,705\n",
            "Trainable params: 814,705\n",
            "Non-trainable params: 0\n",
            "_________________________________________________________________\n",
            "Epoch 1/50\n",
            "20/20 [==============================] - 7s 26ms/step - loss: 5.3228 - mae: 2.0350\n",
            "Epoch 2/50\n",
            "20/20 [==============================] - 1s 25ms/step - loss: 1.2828 - mae: 0.8806\n",
            "Epoch 3/50\n",
            "20/20 [==============================] - 1s 27ms/step - loss: 1.2524 - mae: 0.8562\n",
            "Epoch 4/50\n",
            "20/20 [==============================] - 1s 28ms/step - loss: 1.2475 - mae: 0.8465\n",
            "Epoch 5/50\n",
            "20/20 [==============================] - 1s 26ms/step - loss: 1.1740 - mae: 0.8142\n",
            "Epoch 6/50\n",
            "20/20 [==============================] - 1s 26ms/step - loss: 1.2598 - mae: 0.8661\n",
            "Epoch 7/50\n",
            "20/20 [==============================] - 1s 27ms/step - loss: 1.2644 - mae: 0.8591\n",
            "Epoch 8/50\n",
            "20/20 [==============================] - 1s 25ms/step - loss: 1.1635 - mae: 0.8212\n",
            "Epoch 9/50\n",
            "20/20 [==============================] - 1s 26ms/step - loss: 1.3900 - mae: 0.9309\n",
            "Epoch 10/50\n",
            "20/20 [==============================] - 1s 25ms/step - loss: 1.1963 - mae: 0.8314\n",
            "Epoch 11/50\n",
            "20/20 [==============================] - 1s 26ms/step - loss: 1.2046 - mae: 0.8301\n",
            "Epoch 12/50\n",
            "20/20 [==============================] - 1s 26ms/step - loss: 1.2552 - mae: 0.8512\n",
            "Epoch 13/50\n",
            "20/20 [==============================] - 1s 26ms/step - loss: 1.1732 - mae: 0.8343\n",
            "Epoch 14/50\n",
            "20/20 [==============================] - 1s 27ms/step - loss: 1.2357 - mae: 0.8484\n",
            "Epoch 15/50\n",
            "20/20 [==============================] - 1s 25ms/step - loss: 1.2353 - mae: 0.8585\n",
            "Epoch 16/50\n",
            "20/20 [==============================] - 1s 25ms/step - loss: 1.2460 - mae: 0.8421\n",
            "Epoch 17/50\n",
            "20/20 [==============================] - 1s 27ms/step - loss: 1.3581 - mae: 0.8756\n",
            "Epoch 18/50\n",
            "20/20 [==============================] - 1s 26ms/step - loss: 1.1833 - mae: 0.8260\n",
            "Epoch 19/50\n",
            "20/20 [==============================] - 1s 26ms/step - loss: 1.2013 - mae: 0.8335\n",
            "Epoch 20/50\n",
            "20/20 [==============================] - 1s 25ms/step - loss: 1.1830 - mae: 0.8133\n",
            "Epoch 21/50\n",
            "20/20 [==============================] - 1s 26ms/step - loss: 1.2199 - mae: 0.8486\n",
            "Epoch 22/50\n",
            "20/20 [==============================] - 1s 25ms/step - loss: 1.1236 - mae: 0.8183\n",
            "Epoch 23/50\n",
            "20/20 [==============================] - 0s 25ms/step - loss: 1.1687 - mae: 0.8242\n",
            "Epoch 24/50\n",
            "20/20 [==============================] - 1s 26ms/step - loss: 1.2122 - mae: 0.8307\n",
            "Epoch 25/50\n",
            "20/20 [==============================] - 1s 25ms/step - loss: 1.1442 - mae: 0.8068\n",
            "Epoch 26/50\n",
            "20/20 [==============================] - 1s 27ms/step - loss: 1.2147 - mae: 0.8369\n",
            "Epoch 27/50\n",
            "20/20 [==============================] - 1s 25ms/step - loss: 1.1198 - mae: 0.7942\n",
            "Epoch 28/50\n",
            "20/20 [==============================] - 1s 29ms/step - loss: 1.2173 - mae: 0.8370\n",
            "Epoch 29/50\n",
            "20/20 [==============================] - 1s 25ms/step - loss: 1.2205 - mae: 0.8358\n",
            "Epoch 30/50\n",
            "20/20 [==============================] - 1s 26ms/step - loss: 1.1057 - mae: 0.8048\n",
            "Epoch 31/50\n",
            "20/20 [==============================] - 1s 25ms/step - loss: 1.2074 - mae: 0.8190\n",
            "Epoch 32/50\n",
            "20/20 [==============================] - 1s 25ms/step - loss: 1.1402 - mae: 0.8097\n",
            "Epoch 33/50\n",
            "20/20 [==============================] - 0s 25ms/step - loss: 1.1250 - mae: 0.8036\n",
            "Epoch 34/50\n",
            "20/20 [==============================] - 1s 26ms/step - loss: 1.1713 - mae: 0.8198\n",
            "Epoch 35/50\n",
            "20/20 [==============================] - 1s 25ms/step - loss: 1.1690 - mae: 0.8201\n",
            "Epoch 36/50\n",
            "20/20 [==============================] - 1s 26ms/step - loss: 1.1552 - mae: 0.8101\n",
            "Epoch 37/50\n",
            "20/20 [==============================] - 1s 26ms/step - loss: 1.0731 - mae: 0.7886\n",
            "Epoch 38/50\n",
            "20/20 [==============================] - 1s 26ms/step - loss: 1.1184 - mae: 0.7976\n",
            "Epoch 39/50\n",
            "20/20 [==============================] - 1s 26ms/step - loss: 1.2162 - mae: 0.8346\n",
            "Epoch 40/50\n",
            "20/20 [==============================] - 1s 26ms/step - loss: 1.1644 - mae: 0.8200\n",
            "Epoch 41/50\n",
            "20/20 [==============================] - 0s 25ms/step - loss: 1.1982 - mae: 0.8360\n",
            "Epoch 42/50\n",
            "20/20 [==============================] - 1s 26ms/step - loss: 1.1111 - mae: 0.7981\n",
            "Epoch 43/50\n",
            "20/20 [==============================] - 0s 25ms/step - loss: 1.1654 - mae: 0.8259\n",
            "Epoch 44/50\n",
            "20/20 [==============================] - 1s 26ms/step - loss: 1.1472 - mae: 0.8141\n",
            "Epoch 45/50\n",
            "20/20 [==============================] - 1s 25ms/step - loss: 1.1392 - mae: 0.8027\n",
            "Epoch 46/50\n",
            "20/20 [==============================] - 1s 26ms/step - loss: 1.2166 - mae: 0.8360\n",
            "Epoch 47/50\n",
            "20/20 [==============================] - 0s 24ms/step - loss: 1.1029 - mae: 0.7906\n",
            "Epoch 48/50\n",
            "20/20 [==============================] - 1s 26ms/step - loss: 1.1282 - mae: 0.7922\n",
            "Epoch 49/50\n",
            "20/20 [==============================] - 0s 25ms/step - loss: 1.2106 - mae: 0.8335\n",
            "Epoch 50/50\n",
            "20/20 [==============================] - 1s 25ms/step - loss: 1.1198 - mae: 0.7995\n",
            "\n",
            "--------Fold 3--------\n",
            "\n",
            "Training Word2Vec Model...\n",
            "Model: \"sequential_2\"\n",
            "_________________________________________________________________\n",
            "Layer (type)                 Output Shape              Param #   \n",
            "=================================================================\n",
            "lstm_4 (LSTM)                (None, 1, 300)            721200    \n",
            "_________________________________________________________________\n",
            "lstm_5 (LSTM)                (None, 64)                93440     \n",
            "_________________________________________________________________\n",
            "dropout_2 (Dropout)          (None, 64)                0         \n",
            "_________________________________________________________________\n",
            "dense_2 (Dense)              (None, 1)                 65        \n",
            "=================================================================\n",
            "Total params: 814,705\n",
            "Trainable params: 814,705\n",
            "Non-trainable params: 0\n",
            "_________________________________________________________________\n",
            "Epoch 1/50\n",
            "20/20 [==============================] - 7s 26ms/step - loss: 5.2634 - mae: 2.0089\n",
            "Epoch 2/50\n",
            "20/20 [==============================] - 1s 25ms/step - loss: 1.2621 - mae: 0.8458\n",
            "Epoch 3/50\n",
            "20/20 [==============================] - 0s 25ms/step - loss: 1.3674 - mae: 0.9053\n",
            "Epoch 4/50\n",
            "20/20 [==============================] - 0s 24ms/step - loss: 1.2721 - mae: 0.8650\n",
            "Epoch 5/50\n",
            "20/20 [==============================] - 1s 26ms/step - loss: 1.2317 - mae: 0.8516\n",
            "Epoch 6/50\n",
            "20/20 [==============================] - 1s 25ms/step - loss: 1.3541 - mae: 0.8767\n",
            "Epoch 7/50\n",
            "20/20 [==============================] - 1s 25ms/step - loss: 1.2135 - mae: 0.8399\n",
            "Epoch 8/50\n",
            "20/20 [==============================] - 1s 26ms/step - loss: 1.2112 - mae: 0.8533\n",
            "Epoch 9/50\n",
            "20/20 [==============================] - 1s 26ms/step - loss: 1.2486 - mae: 0.8565\n",
            "Epoch 10/50\n",
            "20/20 [==============================] - 0s 24ms/step - loss: 1.2087 - mae: 0.8467\n",
            "Epoch 11/50\n",
            "20/20 [==============================] - 1s 26ms/step - loss: 1.1516 - mae: 0.8034\n",
            "Epoch 12/50\n",
            "20/20 [==============================] - 1s 27ms/step - loss: 1.2346 - mae: 0.8570\n",
            "Epoch 13/50\n",
            "20/20 [==============================] - 1s 26ms/step - loss: 1.1261 - mae: 0.7897\n",
            "Epoch 14/50\n",
            "20/20 [==============================] - 1s 26ms/step - loss: 1.2195 - mae: 0.8375\n",
            "Epoch 15/50\n",
            "20/20 [==============================] - 0s 24ms/step - loss: 1.1870 - mae: 0.8269\n",
            "Epoch 16/50\n",
            "20/20 [==============================] - 0s 25ms/step - loss: 1.2286 - mae: 0.8326\n",
            "Epoch 17/50\n",
            "20/20 [==============================] - 1s 26ms/step - loss: 1.2298 - mae: 0.8264\n",
            "Epoch 18/50\n",
            "20/20 [==============================] - 1s 26ms/step - loss: 1.3515 - mae: 0.8895\n",
            "Epoch 19/50\n",
            "20/20 [==============================] - 1s 26ms/step - loss: 1.1837 - mae: 0.8141\n",
            "Epoch 20/50\n",
            "20/20 [==============================] - 1s 26ms/step - loss: 1.2604 - mae: 0.8356\n",
            "Epoch 21/50\n",
            "20/20 [==============================] - 0s 24ms/step - loss: 1.3236 - mae: 0.8851\n",
            "Epoch 22/50\n",
            "20/20 [==============================] - 1s 26ms/step - loss: 1.1180 - mae: 0.7947\n",
            "Epoch 23/50\n",
            "20/20 [==============================] - 1s 27ms/step - loss: 1.2147 - mae: 0.8448\n",
            "Epoch 24/50\n",
            "20/20 [==============================] - 1s 26ms/step - loss: 1.1956 - mae: 0.8369\n",
            "Epoch 25/50\n",
            "20/20 [==============================] - 1s 27ms/step - loss: 1.2015 - mae: 0.8261\n",
            "Epoch 26/50\n",
            "20/20 [==============================] - 1s 27ms/step - loss: 1.1781 - mae: 0.8104\n",
            "Epoch 27/50\n",
            "20/20 [==============================] - 1s 25ms/step - loss: 1.2280 - mae: 0.8402\n",
            "Epoch 28/50\n",
            "20/20 [==============================] - 1s 27ms/step - loss: 1.1687 - mae: 0.8172\n",
            "Epoch 29/50\n",
            "20/20 [==============================] - 1s 26ms/step - loss: 1.0692 - mae: 0.7879\n",
            "Epoch 30/50\n",
            "20/20 [==============================] - 1s 27ms/step - loss: 1.2076 - mae: 0.8358\n",
            "Epoch 31/50\n",
            "20/20 [==============================] - 1s 26ms/step - loss: 1.1347 - mae: 0.8021\n",
            "Epoch 32/50\n",
            "20/20 [==============================] - 1s 27ms/step - loss: 1.2095 - mae: 0.8443\n",
            "Epoch 33/50\n",
            "20/20 [==============================] - 1s 27ms/step - loss: 1.1769 - mae: 0.8326\n",
            "Epoch 34/50\n",
            "20/20 [==============================] - 1s 26ms/step - loss: 1.2294 - mae: 0.8330\n",
            "Epoch 35/50\n",
            "20/20 [==============================] - 1s 25ms/step - loss: 1.1589 - mae: 0.8211\n",
            "Epoch 36/50\n",
            "20/20 [==============================] - 1s 28ms/step - loss: 1.1561 - mae: 0.8069\n",
            "Epoch 37/50\n",
            "20/20 [==============================] - 1s 27ms/step - loss: 1.1813 - mae: 0.8252\n",
            "Epoch 38/50\n",
            "20/20 [==============================] - 1s 26ms/step - loss: 1.3226 - mae: 0.8907\n",
            "Epoch 39/50\n",
            "20/20 [==============================] - 1s 27ms/step - loss: 1.2008 - mae: 0.8315\n",
            "Epoch 40/50\n",
            "20/20 [==============================] - 1s 27ms/step - loss: 1.2272 - mae: 0.8517\n",
            "Epoch 41/50\n",
            "20/20 [==============================] - 1s 28ms/step - loss: 1.1886 - mae: 0.8129\n",
            "Epoch 42/50\n",
            "20/20 [==============================] - 1s 26ms/step - loss: 1.2470 - mae: 0.8333\n",
            "Epoch 43/50\n",
            "20/20 [==============================] - 1s 26ms/step - loss: 1.2540 - mae: 0.8260\n",
            "Epoch 44/50\n",
            "20/20 [==============================] - 1s 25ms/step - loss: 1.1868 - mae: 0.8246\n",
            "Epoch 45/50\n",
            "20/20 [==============================] - 1s 27ms/step - loss: 1.2417 - mae: 0.8434\n",
            "Epoch 46/50\n",
            "20/20 [==============================] - 1s 26ms/step - loss: 1.2259 - mae: 0.8417\n",
            "Epoch 47/50\n",
            "20/20 [==============================] - 1s 26ms/step - loss: 1.1961 - mae: 0.8178\n",
            "Epoch 48/50\n",
            "20/20 [==============================] - 1s 25ms/step - loss: 1.1128 - mae: 0.7943\n",
            "Epoch 49/50\n",
            "20/20 [==============================] - 1s 27ms/step - loss: 1.2295 - mae: 0.8430\n",
            "Epoch 50/50\n",
            "20/20 [==============================] - 1s 25ms/step - loss: 1.2783 - mae: 0.8525\n",
            "\n",
            "--------Fold 4--------\n",
            "\n",
            "Training Word2Vec Model...\n",
            "Model: \"sequential_3\"\n",
            "_________________________________________________________________\n",
            "Layer (type)                 Output Shape              Param #   \n",
            "=================================================================\n",
            "lstm_6 (LSTM)                (None, 1, 300)            721200    \n",
            "_________________________________________________________________\n",
            "lstm_7 (LSTM)                (None, 64)                93440     \n",
            "_________________________________________________________________\n",
            "dropout_3 (Dropout)          (None, 64)                0         \n",
            "_________________________________________________________________\n",
            "dense_3 (Dense)              (None, 1)                 65        \n",
            "=================================================================\n",
            "Total params: 814,705\n",
            "Trainable params: 814,705\n",
            "Non-trainable params: 0\n",
            "_________________________________________________________________\n",
            "Epoch 1/50\n",
            "20/20 [==============================] - 8s 26ms/step - loss: 5.9332 - mae: 2.1553\n",
            "Epoch 2/50\n",
            "20/20 [==============================] - 1s 28ms/step - loss: 1.2289 - mae: 0.8570\n",
            "Epoch 3/50\n",
            "20/20 [==============================] - 1s 26ms/step - loss: 1.2413 - mae: 0.8534\n",
            "Epoch 4/50\n",
            "20/20 [==============================] - 1s 27ms/step - loss: 1.1816 - mae: 0.8190\n",
            "Epoch 5/50\n",
            "20/20 [==============================] - 1s 25ms/step - loss: 1.3102 - mae: 0.8625\n",
            "Epoch 6/50\n",
            "20/20 [==============================] - 1s 27ms/step - loss: 1.2027 - mae: 0.8399\n",
            "Epoch 7/50\n",
            "20/20 [==============================] - 1s 25ms/step - loss: 1.1942 - mae: 0.8396\n",
            "Epoch 8/50\n",
            "20/20 [==============================] - 1s 26ms/step - loss: 1.1825 - mae: 0.8308\n",
            "Epoch 9/50\n",
            "20/20 [==============================] - 1s 26ms/step - loss: 1.2009 - mae: 0.8225\n",
            "Epoch 10/50\n",
            "20/20 [==============================] - 1s 27ms/step - loss: 1.2106 - mae: 0.8368\n",
            "Epoch 11/50\n",
            "20/20 [==============================] - 1s 28ms/step - loss: 1.1835 - mae: 0.8290\n",
            "Epoch 12/50\n",
            "20/20 [==============================] - 1s 26ms/step - loss: 1.1408 - mae: 0.8059\n",
            "Epoch 13/50\n",
            "20/20 [==============================] - 1s 26ms/step - loss: 1.0984 - mae: 0.8006\n",
            "Epoch 14/50\n",
            "20/20 [==============================] - 1s 27ms/step - loss: 1.3476 - mae: 0.8820\n",
            "Epoch 15/50\n",
            "20/20 [==============================] - 1s 27ms/step - loss: 1.2511 - mae: 0.8461\n",
            "Epoch 16/50\n",
            "20/20 [==============================] - 1s 27ms/step - loss: 1.2004 - mae: 0.8306\n",
            "Epoch 17/50\n",
            "20/20 [==============================] - 1s 27ms/step - loss: 1.1994 - mae: 0.8159\n",
            "Epoch 18/50\n",
            "20/20 [==============================] - 1s 27ms/step - loss: 1.2105 - mae: 0.8249\n",
            "Epoch 19/50\n",
            "20/20 [==============================] - 1s 26ms/step - loss: 1.1634 - mae: 0.8106\n",
            "Epoch 20/50\n",
            "20/20 [==============================] - 1s 27ms/step - loss: 1.2561 - mae: 0.8518\n",
            "Epoch 21/50\n",
            "20/20 [==============================] - 1s 26ms/step - loss: 1.2722 - mae: 0.8665\n",
            "Epoch 22/50\n",
            "20/20 [==============================] - 1s 26ms/step - loss: 1.3162 - mae: 0.8666\n",
            "Epoch 23/50\n",
            "20/20 [==============================] - 1s 27ms/step - loss: 1.2002 - mae: 0.8280\n",
            "Epoch 24/50\n",
            "20/20 [==============================] - 1s 26ms/step - loss: 1.2669 - mae: 0.8619\n",
            "Epoch 25/50\n",
            "20/20 [==============================] - 1s 26ms/step - loss: 1.3321 - mae: 0.8790\n",
            "Epoch 26/50\n",
            "20/20 [==============================] - 1s 27ms/step - loss: 1.2138 - mae: 0.8368\n",
            "Epoch 27/50\n",
            "20/20 [==============================] - 1s 26ms/step - loss: 1.1578 - mae: 0.8343\n",
            "Epoch 28/50\n",
            "20/20 [==============================] - 1s 29ms/step - loss: 1.1905 - mae: 0.8217\n",
            "Epoch 29/50\n",
            "20/20 [==============================] - 1s 27ms/step - loss: 1.2419 - mae: 0.8423\n",
            "Epoch 30/50\n",
            "20/20 [==============================] - 1s 26ms/step - loss: 1.0733 - mae: 0.7793\n",
            "Epoch 31/50\n",
            "20/20 [==============================] - 1s 26ms/step - loss: 1.3073 - mae: 0.8645\n",
            "Epoch 32/50\n",
            "20/20 [==============================] - 1s 27ms/step - loss: 1.1964 - mae: 0.8149\n",
            "Epoch 33/50\n",
            "20/20 [==============================] - 1s 27ms/step - loss: 1.1754 - mae: 0.8108\n",
            "Epoch 34/50\n",
            "20/20 [==============================] - 1s 28ms/step - loss: 1.1979 - mae: 0.8342\n",
            "Epoch 35/50\n",
            "20/20 [==============================] - 1s 26ms/step - loss: 1.1430 - mae: 0.8047\n",
            "Epoch 36/50\n",
            "20/20 [==============================] - 1s 27ms/step - loss: 1.1587 - mae: 0.8284\n",
            "Epoch 37/50\n",
            "20/20 [==============================] - 1s 28ms/step - loss: 1.2705 - mae: 0.8852\n",
            "Epoch 38/50\n",
            "20/20 [==============================] - 1s 27ms/step - loss: 1.2419 - mae: 0.8419\n",
            "Epoch 39/50\n",
            "20/20 [==============================] - 1s 27ms/step - loss: 1.1967 - mae: 0.8248\n",
            "Epoch 40/50\n",
            "20/20 [==============================] - 1s 27ms/step - loss: 1.1746 - mae: 0.8220\n",
            "Epoch 41/50\n",
            "20/20 [==============================] - 1s 26ms/step - loss: 1.2079 - mae: 0.8433\n",
            "Epoch 42/50\n",
            "20/20 [==============================] - 1s 27ms/step - loss: 1.1433 - mae: 0.8241\n",
            "Epoch 43/50\n",
            "20/20 [==============================] - 1s 26ms/step - loss: 1.1373 - mae: 0.8087\n",
            "Epoch 44/50\n",
            "20/20 [==============================] - 1s 28ms/step - loss: 1.2481 - mae: 0.8517\n",
            "Epoch 45/50\n",
            "20/20 [==============================] - 1s 29ms/step - loss: 1.0430 - mae: 0.7628\n",
            "Epoch 46/50\n",
            "20/20 [==============================] - 1s 28ms/step - loss: 1.1257 - mae: 0.8040\n",
            "Epoch 47/50\n",
            "20/20 [==============================] - 1s 28ms/step - loss: 1.2200 - mae: 0.8231\n",
            "Epoch 48/50\n",
            "20/20 [==============================] - 1s 27ms/step - loss: 1.1737 - mae: 0.8198\n",
            "Epoch 49/50\n",
            "20/20 [==============================] - 1s 28ms/step - loss: 1.1746 - mae: 0.8145\n",
            "Epoch 50/50\n",
            "20/20 [==============================] - 1s 27ms/step - loss: 1.3126 - mae: 0.8723\n",
            "\n",
            "--------Fold 5--------\n",
            "\n",
            "Training Word2Vec Model...\n",
            "Model: \"sequential_4\"\n",
            "_________________________________________________________________\n",
            "Layer (type)                 Output Shape              Param #   \n",
            "=================================================================\n",
            "lstm_8 (LSTM)                (None, 1, 300)            721200    \n",
            "_________________________________________________________________\n",
            "lstm_9 (LSTM)                (None, 64)                93440     \n",
            "_________________________________________________________________\n",
            "dropout_4 (Dropout)          (None, 64)                0         \n",
            "_________________________________________________________________\n",
            "dense_4 (Dense)              (None, 1)                 65        \n",
            "=================================================================\n",
            "Total params: 814,705\n",
            "Trainable params: 814,705\n",
            "Non-trainable params: 0\n",
            "_________________________________________________________________\n",
            "Epoch 1/50\n",
            "20/20 [==============================] - 8s 27ms/step - loss: 5.4186 - mae: 2.0405\n",
            "Epoch 2/50\n",
            "20/20 [==============================] - 1s 27ms/step - loss: 1.3260 - mae: 0.8850\n",
            "Epoch 3/50\n",
            "20/20 [==============================] - 1s 29ms/step - loss: 1.2399 - mae: 0.8528\n",
            "Epoch 4/50\n",
            "20/20 [==============================] - 1s 28ms/step - loss: 1.2096 - mae: 0.8422\n",
            "Epoch 5/50\n",
            "20/20 [==============================] - 1s 27ms/step - loss: 1.2590 - mae: 0.8483\n",
            "Epoch 6/50\n",
            "20/20 [==============================] - 1s 28ms/step - loss: 1.3103 - mae: 0.8733\n",
            "Epoch 7/50\n",
            "20/20 [==============================] - 1s 29ms/step - loss: 1.2766 - mae: 0.8487\n",
            "Epoch 8/50\n",
            "20/20 [==============================] - 1s 28ms/step - loss: 1.2657 - mae: 0.8431\n",
            "Epoch 9/50\n",
            "20/20 [==============================] - 1s 27ms/step - loss: 1.2738 - mae: 0.8637\n",
            "Epoch 10/50\n",
            "20/20 [==============================] - 1s 28ms/step - loss: 1.1632 - mae: 0.8275\n",
            "Epoch 11/50\n",
            "20/20 [==============================] - 1s 27ms/step - loss: 1.2860 - mae: 0.8641\n",
            "Epoch 12/50\n",
            "20/20 [==============================] - 1s 28ms/step - loss: 1.3015 - mae: 0.8603\n",
            "Epoch 13/50\n",
            "20/20 [==============================] - 1s 27ms/step - loss: 1.2355 - mae: 0.8371\n",
            "Epoch 14/50\n",
            "20/20 [==============================] - 1s 26ms/step - loss: 1.1709 - mae: 0.8228\n",
            "Epoch 15/50\n",
            "20/20 [==============================] - 1s 27ms/step - loss: 1.2141 - mae: 0.8394\n",
            "Epoch 16/50\n",
            "20/20 [==============================] - 1s 26ms/step - loss: 1.2616 - mae: 0.8486\n",
            "Epoch 17/50\n",
            "20/20 [==============================] - 1s 27ms/step - loss: 1.0916 - mae: 0.7837\n",
            "Epoch 18/50\n",
            "20/20 [==============================] - 1s 27ms/step - loss: 1.1598 - mae: 0.8112\n",
            "Epoch 19/50\n",
            "20/20 [==============================] - 1s 28ms/step - loss: 1.1855 - mae: 0.8234\n",
            "Epoch 20/50\n",
            "20/20 [==============================] - 1s 27ms/step - loss: 1.1830 - mae: 0.8245\n",
            "Epoch 21/50\n",
            "20/20 [==============================] - 1s 29ms/step - loss: 1.2273 - mae: 0.8379\n",
            "Epoch 22/50\n",
            "20/20 [==============================] - 1s 28ms/step - loss: 1.1927 - mae: 0.8262\n",
            "Epoch 23/50\n",
            "20/20 [==============================] - 1s 27ms/step - loss: 1.1885 - mae: 0.8322\n",
            "Epoch 24/50\n",
            "20/20 [==============================] - 1s 28ms/step - loss: 1.1995 - mae: 0.8117\n",
            "Epoch 25/50\n",
            "20/20 [==============================] - 1s 27ms/step - loss: 1.1284 - mae: 0.8081\n",
            "Epoch 26/50\n",
            "20/20 [==============================] - 1s 28ms/step - loss: 1.1645 - mae: 0.8054\n",
            "Epoch 27/50\n",
            "20/20 [==============================] - 1s 27ms/step - loss: 1.2222 - mae: 0.8419\n",
            "Epoch 28/50\n",
            "20/20 [==============================] - 1s 28ms/step - loss: 1.2189 - mae: 0.8571\n",
            "Epoch 29/50\n",
            "20/20 [==============================] - 1s 28ms/step - loss: 1.2965 - mae: 0.8473\n",
            "Epoch 30/50\n",
            "20/20 [==============================] - 1s 28ms/step - loss: 1.1820 - mae: 0.8328\n",
            "Epoch 31/50\n",
            "20/20 [==============================] - 1s 27ms/step - loss: 1.1283 - mae: 0.8021\n",
            "Epoch 32/50\n",
            "20/20 [==============================] - 1s 27ms/step - loss: 1.2144 - mae: 0.8210\n",
            "Epoch 33/50\n",
            "20/20 [==============================] - 1s 27ms/step - loss: 1.1606 - mae: 0.8222\n",
            "Epoch 34/50\n",
            "20/20 [==============================] - 1s 27ms/step - loss: 1.2299 - mae: 0.8431\n",
            "Epoch 35/50\n",
            "20/20 [==============================] - 1s 27ms/step - loss: 1.2720 - mae: 0.8531\n",
            "Epoch 36/50\n",
            "20/20 [==============================] - 1s 27ms/step - loss: 1.1854 - mae: 0.8101\n",
            "Epoch 37/50\n",
            "20/20 [==============================] - 1s 27ms/step - loss: 1.1928 - mae: 0.8365\n",
            "Epoch 38/50\n",
            "20/20 [==============================] - 1s 28ms/step - loss: 1.1418 - mae: 0.8094\n",
            "Epoch 39/50\n",
            "20/20 [==============================] - 1s 27ms/step - loss: 1.1420 - mae: 0.8060\n",
            "Epoch 40/50\n",
            "20/20 [==============================] - 1s 28ms/step - loss: 1.1540 - mae: 0.8084\n",
            "Epoch 41/50\n",
            "20/20 [==============================] - 1s 26ms/step - loss: 1.2149 - mae: 0.8384\n",
            "Epoch 42/50\n",
            "20/20 [==============================] - 1s 28ms/step - loss: 1.1784 - mae: 0.8011\n",
            "Epoch 43/50\n",
            "20/20 [==============================] - 1s 26ms/step - loss: 1.2248 - mae: 0.8432\n",
            "Epoch 44/50\n",
            "20/20 [==============================] - 1s 27ms/step - loss: 1.2310 - mae: 0.8547\n",
            "Epoch 45/50\n",
            "20/20 [==============================] - 1s 28ms/step - loss: 1.2473 - mae: 0.8501\n",
            "Epoch 46/50\n",
            "20/20 [==============================] - 1s 27ms/step - loss: 1.2077 - mae: 0.8351\n",
            "Epoch 47/50\n",
            "20/20 [==============================] - 1s 28ms/step - loss: 1.2182 - mae: 0.8298\n",
            "Epoch 48/50\n",
            "20/20 [==============================] - 1s 27ms/step - loss: 1.1927 - mae: 0.8325\n",
            "Epoch 49/50\n",
            "20/20 [==============================] - 1s 26ms/step - loss: 1.1359 - mae: 0.8015\n",
            "Epoch 50/50\n",
            "20/20 [==============================] - 1s 27ms/step - loss: 1.1860 - mae: 0.8239\n"
          ],
          "name": "stdout"
        }
      ]
    },
    {
      "cell_type": "markdown",
      "metadata": {
        "id": "ZGnIoCcd-4jH"
      },
      "source": [
        "# Submission"
      ]
    },
    {
      "cell_type": "code",
      "metadata": {
        "id": "T3RnWbllZyZ0"
      },
      "source": [
        "data=pd.DataFrame((zip(test_data_id,test_essays, y_pred)),columns=['unique_id','essay','predicted_score'])"
      ],
      "execution_count": 8,
      "outputs": []
    },
    {
      "cell_type": "code",
      "metadata": {
        "id": "jQtGh0y3ZyWk"
      },
      "source": [
        "data.to_csv('test_prediction.csv',index=False)"
      ],
      "execution_count": 10,
      "outputs": []
    },
    {
      "cell_type": "code",
      "metadata": {
        "id": "m2HX1t-L-9rL"
      },
      "source": [
        ""
      ],
      "execution_count": null,
      "outputs": []
    }
  ]
}